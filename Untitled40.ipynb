{
  "nbformat": 4,
  "nbformat_minor": 0,
  "metadata": {
    "colab": {
      "provenance": []
    },
    "kernelspec": {
      "name": "python3",
      "display_name": "Python 3"
    },
    "language_info": {
      "name": "python"
    }
  },
  "cells": [
    {
      "cell_type": "markdown",
      "source": [
        "import dependeciies and set the parameters"
      ],
      "metadata": {
        "id": "qUr9S25pieqe"
      }
    },
    {
      "cell_type": "code",
      "execution_count": 20,
      "metadata": {
        "id": "9gaFWlLofXE_"
      },
      "outputs": [],
      "source": [
        "import cvxpy as cvx\n",
        "import numpy as np\n",
        "\n",
        "np.random.seed(10)\n",
        "(m, n) = (30, 10)\n",
        "A = np.random.rand(m, n)\n",
        "A = np.asmatrix(A)\n",
        "b = np.random.rand(m, 1)\n",
        "b = np.asmatrix(B)\n",
        "c_nom = np.ones((n,1)) + np.random.rand(n,1)\n",
        "c_nom = np.asmatrix(c_nom)"
      ]
    },
    {
      "cell_type": "markdown",
      "source": [
        "solution:"
      ],
      "metadata": {
        "id": "b_u_t88TiUUf"
      }
    },
    {
      "cell_type": "code",
      "source": [
        "from cvxpy.expressions.variable import Variable\n",
        "#F and G such that the feasible set of c can be defined by F*c <= G\n",
        "F = np.r_[np.eye(n), -np.eye(n), np.ones((1,n))/n, -np.ones((1,n))/n]\n",
        "G = np.r_[1.25*c_nom, -0.75*c_nom, 1.1*sum(c_nom)/n, -0.9*sum(c_nom)/n]\n",
        "\n",
        "#Robust LP\n",
        "landa = cvx.Variable(G.size)\n",
        "landa = cvx.reshape(landa , (G.size, 1))\n",
        "x = Variable(n)\n",
        "x = cvx.reshape(x , (n, 1))\n",
        "const1 = [A*x >= b, F.T*landa == x, landa >= 0]\n",
        "cvx.Problem(cvx.Minimize(landa.T*G), const1).solve()\n",
        "x_rob = x.value\n",
        "\n",
        "#Nominal LP with constant and unique c = c_nom\n",
        "const2 = [A*x >= b]\n",
        "cvx.Problem(cvx.Minimize(c_nom.T*x), const2).solve()\n",
        "x_nom = x.value\n",
        "\n",
        "#Nominal costs\n",
        "print('nominal cost for x_nom is %2f and for x_rob is %2f' %(c_nom.T*x_nom, c_nom.T*x_rob))\n",
        "\n",
        "#Worst case\n",
        "c = cvx.Variable(n)\n",
        "c = cvx.reshape(c, (n,1))\n",
        "w_x_nom = cvx.Problem(cvx.Maximize(c.T*x_nom), [F*c <= G]).solve()\n",
        "w_x_rob = cvx.Problem(cvx.Maximize(c.T*x_rob), [F*c <= G]).solve()\n",
        "print('worst case cost for x_nom is %2f and for x_rob is %2f' %(w_x_nom, w_x_rob))"
      ],
      "metadata": {
        "colab": {
          "base_uri": "https://localhost:8080/"
        },
        "id": "-IUhV3rziWF1",
        "outputId": "667071dd-d2e1-4a87-b00c-f12c77f374b0"
      },
      "execution_count": 32,
      "outputs": [
        {
          "output_type": "stream",
          "name": "stdout",
          "text": [
            "nominal cost for x_nom is 2.109271 and for x_rob is 2.523209\n",
            "worst case cost for x_nom is 7.221562 and for x_rob is 3.165961\n"
          ]
        },
        {
          "output_type": "stream",
          "name": "stderr",
          "text": [
            "/usr/local/lib/python3.9/dist-packages/cvxpy/expressions/expression.py:612: UserWarning: \n",
            "This use of ``*`` has resulted in matrix multiplication.\n",
            "Using ``*`` for matrix multiplication has been deprecated since CVXPY 1.1.\n",
            "    Use ``*`` for matrix-scalar and vector-scalar multiplication.\n",
            "    Use ``@`` for matrix-matrix and matrix-vector multiplication.\n",
            "    Use ``multiply`` for elementwise multiplication.\n",
            "This code path has been hit 83 times so far.\n",
            "\n",
            "  warnings.warn(msg, UserWarning)\n",
            "/usr/local/lib/python3.9/dist-packages/cvxpy/expressions/expression.py:612: UserWarning: \n",
            "This use of ``*`` has resulted in matrix multiplication.\n",
            "Using ``*`` for matrix multiplication has been deprecated since CVXPY 1.1.\n",
            "    Use ``*`` for matrix-scalar and vector-scalar multiplication.\n",
            "    Use ``@`` for matrix-matrix and matrix-vector multiplication.\n",
            "    Use ``multiply`` for elementwise multiplication.\n",
            "This code path has been hit 84 times so far.\n",
            "\n",
            "  warnings.warn(msg, UserWarning)\n",
            "/usr/local/lib/python3.9/dist-packages/cvxpy/expressions/expression.py:612: UserWarning: \n",
            "This use of ``*`` has resulted in matrix multiplication.\n",
            "Using ``*`` for matrix multiplication has been deprecated since CVXPY 1.1.\n",
            "    Use ``*`` for matrix-scalar and vector-scalar multiplication.\n",
            "    Use ``@`` for matrix-matrix and matrix-vector multiplication.\n",
            "    Use ``multiply`` for elementwise multiplication.\n",
            "This code path has been hit 85 times so far.\n",
            "\n",
            "  warnings.warn(msg, UserWarning)\n",
            "/usr/local/lib/python3.9/dist-packages/cvxpy/expressions/expression.py:612: UserWarning: \n",
            "This use of ``*`` has resulted in matrix multiplication.\n",
            "Using ``*`` for matrix multiplication has been deprecated since CVXPY 1.1.\n",
            "    Use ``*`` for matrix-scalar and vector-scalar multiplication.\n",
            "    Use ``@`` for matrix-matrix and matrix-vector multiplication.\n",
            "    Use ``multiply`` for elementwise multiplication.\n",
            "This code path has been hit 86 times so far.\n",
            "\n",
            "  warnings.warn(msg, UserWarning)\n",
            "/usr/local/lib/python3.9/dist-packages/cvxpy/expressions/expression.py:612: UserWarning: \n",
            "This use of ``*`` has resulted in matrix multiplication.\n",
            "Using ``*`` for matrix multiplication has been deprecated since CVXPY 1.1.\n",
            "    Use ``*`` for matrix-scalar and vector-scalar multiplication.\n",
            "    Use ``@`` for matrix-matrix and matrix-vector multiplication.\n",
            "    Use ``multiply`` for elementwise multiplication.\n",
            "This code path has been hit 87 times so far.\n",
            "\n",
            "  warnings.warn(msg, UserWarning)\n",
            "/usr/local/lib/python3.9/dist-packages/cvxpy/expressions/expression.py:612: UserWarning: \n",
            "This use of ``*`` has resulted in matrix multiplication.\n",
            "Using ``*`` for matrix multiplication has been deprecated since CVXPY 1.1.\n",
            "    Use ``*`` for matrix-scalar and vector-scalar multiplication.\n",
            "    Use ``@`` for matrix-matrix and matrix-vector multiplication.\n",
            "    Use ``multiply`` for elementwise multiplication.\n",
            "This code path has been hit 88 times so far.\n",
            "\n",
            "  warnings.warn(msg, UserWarning)\n",
            "/usr/local/lib/python3.9/dist-packages/cvxpy/expressions/expression.py:612: UserWarning: \n",
            "This use of ``*`` has resulted in matrix multiplication.\n",
            "Using ``*`` for matrix multiplication has been deprecated since CVXPY 1.1.\n",
            "    Use ``*`` for matrix-scalar and vector-scalar multiplication.\n",
            "    Use ``@`` for matrix-matrix and matrix-vector multiplication.\n",
            "    Use ``multiply`` for elementwise multiplication.\n",
            "This code path has been hit 89 times so far.\n",
            "\n",
            "  warnings.warn(msg, UserWarning)\n",
            "/usr/local/lib/python3.9/dist-packages/cvxpy/expressions/expression.py:612: UserWarning: \n",
            "This use of ``*`` has resulted in matrix multiplication.\n",
            "Using ``*`` for matrix multiplication has been deprecated since CVXPY 1.1.\n",
            "    Use ``*`` for matrix-scalar and vector-scalar multiplication.\n",
            "    Use ``@`` for matrix-matrix and matrix-vector multiplication.\n",
            "    Use ``multiply`` for elementwise multiplication.\n",
            "This code path has been hit 90 times so far.\n",
            "\n",
            "  warnings.warn(msg, UserWarning)\n",
            "/usr/local/lib/python3.9/dist-packages/cvxpy/expressions/expression.py:612: UserWarning: \n",
            "This use of ``*`` has resulted in matrix multiplication.\n",
            "Using ``*`` for matrix multiplication has been deprecated since CVXPY 1.1.\n",
            "    Use ``*`` for matrix-scalar and vector-scalar multiplication.\n",
            "    Use ``@`` for matrix-matrix and matrix-vector multiplication.\n",
            "    Use ``multiply`` for elementwise multiplication.\n",
            "This code path has been hit 91 times so far.\n",
            "\n",
            "  warnings.warn(msg, UserWarning)\n"
          ]
        }
      ]
    }
  ]
}