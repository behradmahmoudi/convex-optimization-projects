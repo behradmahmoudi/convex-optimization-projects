{
  "nbformat": 4,
  "nbformat_minor": 0,
  "metadata": {
    "colab": {
      "provenance": []
    },
    "kernelspec": {
      "name": "python3",
      "display_name": "Python 3"
    },
    "language_info": {
      "name": "python"
    }
  },
  "cells": [
    {
      "cell_type": "code",
      "execution_count": 2,
      "metadata": {
        "id": "DYyuNqXhoV_C"
      },
      "outputs": [],
      "source": [
        "import numpy as np\n",
        "\n",
        "np.random.seed(16)\n",
        "\n",
        "m = 10\n",
        "n = 20\n",
        "p = 0.2\n",
        "\n",
        "x = np.random.rand(m, 2)\n",
        "y = np.random.rand(n, 2)\n",
        "Omega = np.random.rand(m, n) > p\n",
        "Omega[0, 0] = False\n",
        "A = (x @ y.T) * Omega"
      ]
    },
    {
      "cell_type": "code",
      "source": [
        "A"
      ],
      "metadata": {
        "colab": {
          "base_uri": "https://localhost:8080/"
        },
        "id": "ymdHOSVVB3pX",
        "outputId": "0eff3722-8d5c-4547-c5fe-e78f88ebdd1e"
      },
      "execution_count": 3,
      "outputs": [
        {
          "output_type": "execute_result",
          "data": {
            "text/plain": [
              "array([[0.        , 0.37342561, 0.        , 0.45223269, 0.5848406 ,\n",
              "        0.36126553, 0.37028095, 0.34383474, 0.5085739 , 0.06480448,\n",
              "        0.        , 0.        , 0.19755616, 0.1863894 , 0.33082705,\n",
              "        0.        , 0.        , 0.47141881, 0.46486046, 0.64083187],\n",
              "       [0.10841642, 0.33346782, 0.17520291, 0.43914664, 0.45853889,\n",
              "        0.06985675, 0.06059047, 0.26549556, 0.        , 0.14553939,\n",
              "        0.46197066, 0.        , 0.1981993 , 0.12177391, 0.54777822,\n",
              "        0.        , 0.35017423, 0.43545713, 0.26369495, 0.57224625],\n",
              "       [0.24832293, 0.30963204, 0.12311379, 0.39262155, 0.        ,\n",
              "        0.17322236, 0.17204251, 0.2643305 , 0.39238157, 0.        ,\n",
              "        0.46029395, 0.17931504, 0.        , 0.13222095, 0.        ,\n",
              "        0.13267111, 0.27389309, 0.39812276, 0.30976426, 0.53134914],\n",
              "       [0.23350656, 0.4674108 , 0.2237259 , 0.60717871, 0.        ,\n",
              "        0.15775697, 0.        , 0.        , 0.56825808, 0.18324137,\n",
              "        0.66483881, 0.19081269, 0.27265226, 0.18126272, 0.        ,\n",
              "        0.24847976, 0.4625242 , 0.60693718, 0.40546329, 0.80210204],\n",
              "       [0.87205422, 0.48401056, 0.        , 0.        , 0.79777344,\n",
              "        0.62587872, 0.        , 0.47156805, 0.695755  , 0.        ,\n",
              "        0.82223997, 0.        , 0.24247517, 0.        , 0.27141805,\n",
              "        0.04237885, 0.        , 0.60199158, 0.69695834, 0.83061458],\n",
              "       [0.13970966, 0.35610914, 0.18068573, 0.        , 0.49409991,\n",
              "        0.09216263, 0.0834705 , 0.2864088 , 0.42643895, 0.        ,\n",
              "        0.49841717, 0.12379347, 0.21014277, 0.13314599, 0.        ,\n",
              "        0.20233528, 0.36564305, 0.46401689, 0.        , 0.61110081],\n",
              "       [0.23276138, 0.        , 0.23416607, 0.62982934, 0.67965121,\n",
              "        0.        , 0.14705987, 0.39453837, 0.58703497, 0.        ,\n",
              "        0.        , 0.19249711, 0.28298008, 0.        , 0.74004857,\n",
              "        0.26046995, 0.48222587, 0.62902915, 0.4159665 , 0.83079193],\n",
              "       [0.29958313, 0.28030258, 0.09141336, 0.34776544, 0.42400006,\n",
              "        0.21169385, 0.21438578, 0.24831336, 0.36794721, 0.        ,\n",
              "        0.        , 0.2045873 , 0.15341669, 0.1293959 , 0.30771365,\n",
              "        0.09460226, 0.        , 0.35726675, 0.31330073, 0.48102098],\n",
              "       [0.51025456, 0.6137342 , 0.        , 0.        , 0.        ,\n",
              "        0.        , 0.        , 0.52611683, 0.78082774, 0.1887674 ,\n",
              "        0.        , 0.36562361, 0.34512666, 0.26442078, 0.78050204,\n",
              "        0.25681966, 0.53663166, 0.78837656, 0.62192926, 1.0532094 ],\n",
              "       [0.        , 0.        , 0.08696125, 0.40456929, 0.        ,\n",
              "        0.31031044, 0.31754959, 0.        , 0.45046405, 0.06176129,\n",
              "        0.53055006, 0.28830022, 0.17702612, 0.16402996, 0.        ,\n",
              "        0.08487132, 0.23559942, 0.42071009, 0.40726116, 0.57099695]])"
            ]
          },
          "metadata": {},
          "execution_count": 3
        }
      ]
    },
    {
      "cell_type": "code",
      "source": [
        "Omega"
      ],
      "metadata": {
        "colab": {
          "base_uri": "https://localhost:8080/"
        },
        "id": "evpgbeC7B-_F",
        "outputId": "08b494c7-479f-4d3f-dfd7-c1885b3919c9"
      },
      "execution_count": 4,
      "outputs": [
        {
          "output_type": "execute_result",
          "data": {
            "text/plain": [
              "array([[False,  True, False,  True,  True,  True,  True,  True,  True,\n",
              "         True, False, False,  True,  True,  True, False, False,  True,\n",
              "         True,  True],\n",
              "       [ True,  True,  True,  True,  True,  True,  True,  True, False,\n",
              "         True,  True, False,  True,  True,  True, False,  True,  True,\n",
              "         True,  True],\n",
              "       [ True,  True,  True,  True, False,  True,  True,  True,  True,\n",
              "        False,  True,  True, False,  True, False,  True,  True,  True,\n",
              "         True,  True],\n",
              "       [ True,  True,  True,  True, False,  True, False, False,  True,\n",
              "         True,  True,  True,  True,  True, False,  True,  True,  True,\n",
              "         True,  True],\n",
              "       [ True,  True, False, False,  True,  True, False,  True,  True,\n",
              "        False,  True, False,  True, False,  True,  True, False,  True,\n",
              "         True,  True],\n",
              "       [ True,  True,  True, False,  True,  True,  True,  True,  True,\n",
              "        False,  True,  True,  True,  True, False,  True,  True,  True,\n",
              "        False,  True],\n",
              "       [ True, False,  True,  True,  True, False,  True,  True,  True,\n",
              "        False, False,  True,  True, False,  True,  True,  True,  True,\n",
              "         True,  True],\n",
              "       [ True,  True,  True,  True,  True,  True,  True,  True,  True,\n",
              "        False, False,  True,  True,  True,  True,  True, False,  True,\n",
              "         True,  True],\n",
              "       [ True,  True, False, False, False, False, False,  True,  True,\n",
              "         True, False,  True,  True,  True,  True,  True,  True,  True,\n",
              "         True,  True],\n",
              "       [False, False,  True,  True, False,  True,  True, False,  True,\n",
              "         True,  True,  True,  True,  True, False,  True,  True,  True,\n",
              "         True,  True]])"
            ]
          },
          "metadata": {},
          "execution_count": 4
        }
      ]
    },
    {
      "cell_type": "code",
      "source": [
        "y"
      ],
      "metadata": {
        "colab": {
          "base_uri": "https://localhost:8080/"
        },
        "id": "wEuYK8PWCLEe",
        "outputId": "4cf0528e-7f13-4533-b970-919bfee4f971"
      },
      "execution_count": 6,
      "outputs": [
        {
          "output_type": "execute_result",
          "data": {
            "text/plain": [
              "array([[0.12087875, 0.91768701],\n",
              "       [0.56644633, 0.47201932],\n",
              "       [0.31456642, 0.04321573],\n",
              "       [0.75244492, 0.54326904],\n",
              "       [0.76719043, 0.79044877],\n",
              "       [0.07222138, 0.65971583],\n",
              "       [0.05329934, 0.68502445],\n",
              "       [0.44335096, 0.46799615],\n",
              "       [0.66105933, 0.68996663],\n",
              "       [0.26332948, 0.01147893],\n",
              "       [0.77129445, 0.81614233],\n",
              "       [0.1396416 , 0.57800675],\n",
              "       [0.34067427, 0.23221549],\n",
              "       [0.19864375, 0.27149077],\n",
              "       [0.97685276, 0.21542898],\n",
              "       [0.35640742, 0.01839995],\n",
              "       [0.61679027, 0.23040539],\n",
              "       [0.74235174, 0.58425021],\n",
              "       [0.42010355, 0.70925283],\n",
              "       [0.97204553, 0.81003912]])"
            ]
          },
          "metadata": {},
          "execution_count": 6
        }
      ]
    },
    {
      "cell_type": "code",
      "source": [
        "A += np.ones((m,n)) - Omega"
      ],
      "metadata": {
        "id": "s-7cTzUZCg-P"
      },
      "execution_count": 7,
      "outputs": []
    },
    {
      "cell_type": "code",
      "source": [
        "A"
      ],
      "metadata": {
        "colab": {
          "base_uri": "https://localhost:8080/"
        },
        "id": "4zp_6xv5DXDD",
        "outputId": "b0c90379-952b-4ecf-964b-aa23509b96cb"
      },
      "execution_count": 8,
      "outputs": [
        {
          "output_type": "execute_result",
          "data": {
            "text/plain": [
              "array([[1.        , 0.37342561, 1.        , 0.45223269, 0.5848406 ,\n",
              "        0.36126553, 0.37028095, 0.34383474, 0.5085739 , 0.06480448,\n",
              "        1.        , 1.        , 0.19755616, 0.1863894 , 0.33082705,\n",
              "        1.        , 1.        , 0.47141881, 0.46486046, 0.64083187],\n",
              "       [0.10841642, 0.33346782, 0.17520291, 0.43914664, 0.45853889,\n",
              "        0.06985675, 0.06059047, 0.26549556, 1.        , 0.14553939,\n",
              "        0.46197066, 1.        , 0.1981993 , 0.12177391, 0.54777822,\n",
              "        1.        , 0.35017423, 0.43545713, 0.26369495, 0.57224625],\n",
              "       [0.24832293, 0.30963204, 0.12311379, 0.39262155, 1.        ,\n",
              "        0.17322236, 0.17204251, 0.2643305 , 0.39238157, 1.        ,\n",
              "        0.46029395, 0.17931504, 1.        , 0.13222095, 1.        ,\n",
              "        0.13267111, 0.27389309, 0.39812276, 0.30976426, 0.53134914],\n",
              "       [0.23350656, 0.4674108 , 0.2237259 , 0.60717871, 1.        ,\n",
              "        0.15775697, 1.        , 1.        , 0.56825808, 0.18324137,\n",
              "        0.66483881, 0.19081269, 0.27265226, 0.18126272, 1.        ,\n",
              "        0.24847976, 0.4625242 , 0.60693718, 0.40546329, 0.80210204],\n",
              "       [0.87205422, 0.48401056, 1.        , 1.        , 0.79777344,\n",
              "        0.62587872, 1.        , 0.47156805, 0.695755  , 1.        ,\n",
              "        0.82223997, 1.        , 0.24247517, 1.        , 0.27141805,\n",
              "        0.04237885, 1.        , 0.60199158, 0.69695834, 0.83061458],\n",
              "       [0.13970966, 0.35610914, 0.18068573, 1.        , 0.49409991,\n",
              "        0.09216263, 0.0834705 , 0.2864088 , 0.42643895, 1.        ,\n",
              "        0.49841717, 0.12379347, 0.21014277, 0.13314599, 1.        ,\n",
              "        0.20233528, 0.36564305, 0.46401689, 1.        , 0.61110081],\n",
              "       [0.23276138, 1.        , 0.23416607, 0.62982934, 0.67965121,\n",
              "        1.        , 0.14705987, 0.39453837, 0.58703497, 1.        ,\n",
              "        1.        , 0.19249711, 0.28298008, 1.        , 0.74004857,\n",
              "        0.26046995, 0.48222587, 0.62902915, 0.4159665 , 0.83079193],\n",
              "       [0.29958313, 0.28030258, 0.09141336, 0.34776544, 0.42400006,\n",
              "        0.21169385, 0.21438578, 0.24831336, 0.36794721, 1.        ,\n",
              "        1.        , 0.2045873 , 0.15341669, 0.1293959 , 0.30771365,\n",
              "        0.09460226, 1.        , 0.35726675, 0.31330073, 0.48102098],\n",
              "       [0.51025456, 0.6137342 , 1.        , 1.        , 1.        ,\n",
              "        1.        , 1.        , 0.52611683, 0.78082774, 0.1887674 ,\n",
              "        1.        , 0.36562361, 0.34512666, 0.26442078, 0.78050204,\n",
              "        0.25681966, 0.53663166, 0.78837656, 0.62192926, 1.0532094 ],\n",
              "       [1.        , 1.        , 0.08696125, 0.40456929, 1.        ,\n",
              "        0.31031044, 0.31754959, 1.        , 0.45046405, 0.06176129,\n",
              "        0.53055006, 0.28830022, 0.17702612, 0.16402996, 1.        ,\n",
              "        0.08487132, 0.23559942, 0.42071009, 0.40726116, 0.57099695]])"
            ]
          },
          "metadata": {},
          "execution_count": 8
        }
      ]
    },
    {
      "cell_type": "code",
      "source": [
        "import numpy as np\n",
        "import cvxpy as cp"
      ],
      "metadata": {
        "id": "6GqLFlfBD3gF"
      },
      "execution_count": 9,
      "outputs": []
    },
    {
      "cell_type": "code",
      "source": [
        "u = cp.Variable(m)\n",
        "u = cp.reshape(u, (m,1))\n",
        "v = cp.Variable(n)\n",
        "v = cp.reshape(v, (n,1))\n",
        "constraints = [ np.ones((1,m))*u == 0 ]\n",
        "B = cp.exp(cp.abs(u*np.ones((1,n)) + np.ones((m,1))*v.T - cp.log(A)))\n",
        "f = 0\n",
        "for i in range(m):\n",
        "  for j in range(n):\n",
        "    f += Omega[i,j]*B[i,j]\n",
        "obj = cp.Minimize(f)\n",
        "prob = cp.Problem(obj, constraints)\n",
        "prob.solve(solver = cp.SCS)"
      ],
      "metadata": {
        "colab": {
          "base_uri": "https://localhost:8080/"
        },
        "id": "N1f_GeZRDqWb",
        "outputId": "50d14b39-f327-473c-9f53-5299c11f43a5"
      },
      "execution_count": 25,
      "outputs": [
        {
          "output_type": "stream",
          "name": "stderr",
          "text": [
            "/usr/local/lib/python3.9/dist-packages/cvxpy/expressions/expression.py:612: UserWarning: \n",
            "This use of ``*`` has resulted in matrix multiplication.\n",
            "Using ``*`` for matrix multiplication has been deprecated since CVXPY 1.1.\n",
            "    Use ``*`` for matrix-scalar and vector-scalar multiplication.\n",
            "    Use ``@`` for matrix-matrix and matrix-vector multiplication.\n",
            "    Use ``multiply`` for elementwise multiplication.\n",
            "This code path has been hit 22 times so far.\n",
            "\n",
            "  warnings.warn(msg, UserWarning)\n",
            "/usr/local/lib/python3.9/dist-packages/cvxpy/expressions/expression.py:612: UserWarning: \n",
            "This use of ``*`` has resulted in matrix multiplication.\n",
            "Using ``*`` for matrix multiplication has been deprecated since CVXPY 1.1.\n",
            "    Use ``*`` for matrix-scalar and vector-scalar multiplication.\n",
            "    Use ``@`` for matrix-matrix and matrix-vector multiplication.\n",
            "    Use ``multiply`` for elementwise multiplication.\n",
            "This code path has been hit 23 times so far.\n",
            "\n",
            "  warnings.warn(msg, UserWarning)\n",
            "/usr/local/lib/python3.9/dist-packages/cvxpy/expressions/expression.py:612: UserWarning: \n",
            "This use of ``*`` has resulted in matrix multiplication.\n",
            "Using ``*`` for matrix multiplication has been deprecated since CVXPY 1.1.\n",
            "    Use ``*`` for matrix-scalar and vector-scalar multiplication.\n",
            "    Use ``@`` for matrix-matrix and matrix-vector multiplication.\n",
            "    Use ``multiply`` for elementwise multiplication.\n",
            "This code path has been hit 24 times so far.\n",
            "\n",
            "  warnings.warn(msg, UserWarning)\n"
          ]
        },
        {
          "output_type": "execute_result",
          "data": {
            "text/plain": [
              "189.78342560819732"
            ]
          },
          "metadata": {},
          "execution_count": 25
        }
      ]
    },
    {
      "cell_type": "code",
      "source": [
        "np.ones((1,n))"
      ],
      "metadata": {
        "colab": {
          "base_uri": "https://localhost:8080/"
        },
        "id": "NIZVcEUvEWGd",
        "outputId": "dc46de02-f55d-4fb2-ee8d-79b011b9a312"
      },
      "execution_count": 10,
      "outputs": [
        {
          "output_type": "execute_result",
          "data": {
            "text/plain": [
              "array([[1., 1., 1., 1., 1., 1., 1., 1., 1., 1., 1., 1., 1., 1., 1., 1.,\n",
              "        1., 1., 1., 1.]])"
            ]
          },
          "metadata": {},
          "execution_count": 10
        }
      ]
    },
    {
      "cell_type": "code",
      "source": [
        "q = np.random.rand(m,1)\n",
        "print(q)\n",
        "q*np.ones((1,n))"
      ],
      "metadata": {
        "colab": {
          "base_uri": "https://localhost:8080/"
        },
        "id": "JV_aruUsEvW3",
        "outputId": "8b838587-f163-457f-f54d-6e377f564b3d"
      },
      "execution_count": 13,
      "outputs": [
        {
          "output_type": "stream",
          "name": "stdout",
          "text": [
            "[[0.46611697]\n",
            " [0.06845121]\n",
            " [0.10349704]\n",
            " [0.10135502]\n",
            " [0.32597413]\n",
            " [0.59350213]\n",
            " [0.80562884]\n",
            " [0.740684  ]\n",
            " [0.33278554]\n",
            " [0.07301441]]\n"
          ]
        },
        {
          "output_type": "execute_result",
          "data": {
            "text/plain": [
              "array([[0.46611697, 0.46611697, 0.46611697, 0.46611697, 0.46611697,\n",
              "        0.46611697, 0.46611697, 0.46611697, 0.46611697, 0.46611697,\n",
              "        0.46611697, 0.46611697, 0.46611697, 0.46611697, 0.46611697,\n",
              "        0.46611697, 0.46611697, 0.46611697, 0.46611697, 0.46611697],\n",
              "       [0.06845121, 0.06845121, 0.06845121, 0.06845121, 0.06845121,\n",
              "        0.06845121, 0.06845121, 0.06845121, 0.06845121, 0.06845121,\n",
              "        0.06845121, 0.06845121, 0.06845121, 0.06845121, 0.06845121,\n",
              "        0.06845121, 0.06845121, 0.06845121, 0.06845121, 0.06845121],\n",
              "       [0.10349704, 0.10349704, 0.10349704, 0.10349704, 0.10349704,\n",
              "        0.10349704, 0.10349704, 0.10349704, 0.10349704, 0.10349704,\n",
              "        0.10349704, 0.10349704, 0.10349704, 0.10349704, 0.10349704,\n",
              "        0.10349704, 0.10349704, 0.10349704, 0.10349704, 0.10349704],\n",
              "       [0.10135502, 0.10135502, 0.10135502, 0.10135502, 0.10135502,\n",
              "        0.10135502, 0.10135502, 0.10135502, 0.10135502, 0.10135502,\n",
              "        0.10135502, 0.10135502, 0.10135502, 0.10135502, 0.10135502,\n",
              "        0.10135502, 0.10135502, 0.10135502, 0.10135502, 0.10135502],\n",
              "       [0.32597413, 0.32597413, 0.32597413, 0.32597413, 0.32597413,\n",
              "        0.32597413, 0.32597413, 0.32597413, 0.32597413, 0.32597413,\n",
              "        0.32597413, 0.32597413, 0.32597413, 0.32597413, 0.32597413,\n",
              "        0.32597413, 0.32597413, 0.32597413, 0.32597413, 0.32597413],\n",
              "       [0.59350213, 0.59350213, 0.59350213, 0.59350213, 0.59350213,\n",
              "        0.59350213, 0.59350213, 0.59350213, 0.59350213, 0.59350213,\n",
              "        0.59350213, 0.59350213, 0.59350213, 0.59350213, 0.59350213,\n",
              "        0.59350213, 0.59350213, 0.59350213, 0.59350213, 0.59350213],\n",
              "       [0.80562884, 0.80562884, 0.80562884, 0.80562884, 0.80562884,\n",
              "        0.80562884, 0.80562884, 0.80562884, 0.80562884, 0.80562884,\n",
              "        0.80562884, 0.80562884, 0.80562884, 0.80562884, 0.80562884,\n",
              "        0.80562884, 0.80562884, 0.80562884, 0.80562884, 0.80562884],\n",
              "       [0.740684  , 0.740684  , 0.740684  , 0.740684  , 0.740684  ,\n",
              "        0.740684  , 0.740684  , 0.740684  , 0.740684  , 0.740684  ,\n",
              "        0.740684  , 0.740684  , 0.740684  , 0.740684  , 0.740684  ,\n",
              "        0.740684  , 0.740684  , 0.740684  , 0.740684  , 0.740684  ],\n",
              "       [0.33278554, 0.33278554, 0.33278554, 0.33278554, 0.33278554,\n",
              "        0.33278554, 0.33278554, 0.33278554, 0.33278554, 0.33278554,\n",
              "        0.33278554, 0.33278554, 0.33278554, 0.33278554, 0.33278554,\n",
              "        0.33278554, 0.33278554, 0.33278554, 0.33278554, 0.33278554],\n",
              "       [0.07301441, 0.07301441, 0.07301441, 0.07301441, 0.07301441,\n",
              "        0.07301441, 0.07301441, 0.07301441, 0.07301441, 0.07301441,\n",
              "        0.07301441, 0.07301441, 0.07301441, 0.07301441, 0.07301441,\n",
              "        0.07301441, 0.07301441, 0.07301441, 0.07301441, 0.07301441]])"
            ]
          },
          "metadata": {},
          "execution_count": 13
        }
      ]
    },
    {
      "cell_type": "code",
      "source": [
        "x_tilde = np.exp(u.value)\n",
        "y_tilde = np.exp(v.value)\n",
        "x = x/ np.sum(x_tilde)\n",
        "y = np.sum(x_tilde)* y_tilde"
      ],
      "metadata": {
        "id": "1BdfgTXMKDrX"
      },
      "execution_count": 26,
      "outputs": []
    },
    {
      "cell_type": "code",
      "source": [
        "rel_dev_opt = (prob.value - sum(sum(Omega))) / m / n\n",
        "print('rel_dev_opt is %f' %rel_dev_opt)\n",
        "A_11 = x[1]*y[1]"
      ],
      "metadata": {
        "colab": {
          "base_uri": "https://localhost:8080/"
        },
        "id": "2pFZdDmnLzHO",
        "outputId": "9200b898-d44b-4112-ab74-17f5036f9b12"
      },
      "execution_count": 36,
      "outputs": [
        {
          "output_type": "stream",
          "name": "stdout",
          "text": [
            "rel_dev_opt is 0.183917\n"
          ]
        }
      ]
    },
    {
      "cell_type": "code",
      "source": [
        "A_11 = x[0,0] * y[0,0]\n",
        "print('A_11 is %f' %A_11)"
      ],
      "metadata": {
        "colab": {
          "base_uri": "https://localhost:8080/"
        },
        "id": "1t5jqoIKNES8",
        "outputId": "b09ac9b6-a503-458c-d66f-258ca6ce7875"
      },
      "execution_count": 35,
      "outputs": [
        {
          "output_type": "stream",
          "name": "stdout",
          "text": [
            "A_11 is 0.060149\n"
          ]
        }
      ]
    },
    {
      "cell_type": "code",
      "source": [
        "print('value of x1 is %f' % x[0,0])\n",
        "print('value of y1 is %f' % y[0,0])"
      ],
      "metadata": {
        "colab": {
          "base_uri": "https://localhost:8080/"
        },
        "id": "EVdGBAW5Pwnc",
        "outputId": "8deb27bc-5bbf-4df7-f900-ebb6ee95695b"
      },
      "execution_count": 38,
      "outputs": [
        {
          "output_type": "stream",
          "name": "stdout",
          "text": [
            "value of x1 is 0.021658\n",
            "value of y1 is 2.777167\n"
          ]
        }
      ]
    }
  ]
}