{
  "nbformat": 4,
  "nbformat_minor": 0,
  "metadata": {
    "colab": {
      "provenance": []
    },
    "kernelspec": {
      "name": "python3",
      "display_name": "Python 3"
    },
    "language_info": {
      "name": "python"
    }
  },
  "cells": [
    {
      "cell_type": "code",
      "execution_count": 1,
      "metadata": {
        "id": "1FHzzrrPJNIW"
      },
      "outputs": [],
      "source": [
        "import numpy as np\n",
        "n = 10 # number of variables\n",
        "k = 6  # number of designs\n",
        "\n",
        "# component widths from known designas\n",
        "# each column of W is a different design\n",
        "W =([[ 1.8381,  1.5803, 12.4483,  4.4542,  6.5637,  5.8225],\n",
        "    [ 1.0196,  3.0467, 18.4965,  3.6186,  7.6979,  2.3292],\n",
        "    [ 1.6813,  1.9083, 17.3244,  4.677 ,  4.6581, 27.0291],\n",
        "    [ 1.3795,  2.625 , 14.6737,  4.1361,  7.161 ,  7.5759],\n",
        "    [ 1.8318,  1.4526, 17.2696,  3.7408,  2.2107, 10.3642],\n",
        "    [ 1.5028,  3.0937, 14.9034,  4.4055,  7.8582, 20.5204],\n",
        "    [ 1.7095,  2.1351, 10.1296,  4.0931,  2.9001,  9.9634],\n",
        "    [ 1.4289,  3.58  ,  9.3459,  3.8898,  2.7663, 15.1383],\n",
        "    [ 1.3046,  3.561 , 10.1179,  4.3891,  7.1302,  3.8139],\n",
        "    [ 1.1897,  2.7807, 13.0112,  4.2426,  6.1611, 29.6734]])\n",
        "W = np.array(W)\n",
        "\n",
        "(W_min, W_max) = (1.0, 30.0)\n",
        "\n",
        "# objective values for the different designs\n",
        "# entry j gives the objective for design j\n",
        "P = np.array([ 29.0148,  46.3369, 282.1749,  78.5183, 104.8087, 253.5439])\n",
        "P.reshape((k,1))\n",
        "D = np.array([15.9522, 11.5012,  4.8148,  8.5697,  8.087 ,  6.0273])\n",
        "D.reshape((k,1))\n",
        "A = np.array([ 22.3796,  38.7908, 204.1574,  62.5563,  81.2272, 200.5119])\n",
        "A.reshape((k,1))\n",
        "\n",
        "# specifications\n",
        "(P_spec, D_spec, A_spec) = (60.0, 10.0, 50.0)"
      ]
    },
    {
      "cell_type": "code",
      "source": [
        "P.shape"
      ],
      "metadata": {
        "colab": {
          "base_uri": "https://localhost:8080/"
        },
        "id": "H3Ip1EKkLOVT",
        "outputId": "9869775d-3698-4be3-9ad8-aaaf2cacafad"
      },
      "execution_count": 2,
      "outputs": [
        {
          "output_type": "execute_result",
          "data": {
            "text/plain": [
              "(6,)"
            ]
          },
          "metadata": {},
          "execution_count": 2
        }
      ]
    },
    {
      "cell_type": "code",
      "source": [
        "import cvxpy as cp\n",
        "\n",
        "teta = cp.Variable((k,1))\n",
        "constraints = [\n",
        "    teta.T@np.log(P) <= np.log(P_spec),\n",
        "    teta.T@np.log(P) <= np.log(P_spec),\n",
        "    teta.T@np.log(P) <= np.log(P_spec),\n",
        "    cp.sum(teta) == 1,\n",
        "    teta >= 0\n",
        "]\n",
        "problem = cp.Problem(cp.Minimize(0), constraints)\n",
        "result = problem.solve()\n",
        "print('values of teta are:')\n",
        "teta.value"
      ],
      "metadata": {
        "colab": {
          "base_uri": "https://localhost:8080/"
        },
        "id": "oVTwkThTKer9",
        "outputId": "7b5a4b39-9e16-4212-89ba-101630dcf86c"
      },
      "execution_count": 2,
      "outputs": [
        {
          "output_type": "stream",
          "name": "stdout",
          "text": [
            "values of teta are:\n"
          ]
        },
        {
          "output_type": "execute_result",
          "data": {
            "text/plain": [
              "array([[0.52532679],\n",
              "       [0.1592948 ],\n",
              "       [0.06163209],\n",
              "       [0.1043849 ],\n",
              "       [0.08668132],\n",
              "       [0.0626801 ]])"
            ]
          },
          "metadata": {},
          "execution_count": 2
        }
      ]
    },
    {
      "cell_type": "code",
      "source": [
        "cp.sum(teta).value"
      ],
      "metadata": {
        "colab": {
          "base_uri": "https://localhost:8080/"
        },
        "id": "c1u2HB7pObc2",
        "outputId": "de5bb325-4f3e-468d-be25-77e493c3b4a6"
      },
      "execution_count": 3,
      "outputs": [
        {
          "output_type": "execute_result",
          "data": {
            "text/plain": [
              "0.9999999999999991"
            ]
          },
          "metadata": {},
          "execution_count": 3
        }
      ]
    },
    {
      "cell_type": "code",
      "source": [
        "w = np.exp(np.log(W)@teta.value)\n",
        "print('values of w are:')\n",
        "print(w)"
      ],
      "metadata": {
        "colab": {
          "base_uri": "https://localhost:8080/"
        },
        "id": "zWP-VYjDO9UL",
        "outputId": "def787c4-e01c-4317-f3ed-2c1d34eb6017"
      },
      "execution_count": 4,
      "outputs": [
        {
          "output_type": "stream",
          "name": "stdout",
          "text": [
            "values of w are:\n",
            "[[2.65792494]\n",
            " [2.07847603]\n",
            " [2.86541258]\n",
            " [2.54481967]\n",
            " [2.47462399]\n",
            " [2.95428701]\n",
            " [2.53125337]\n",
            " [2.53122047]\n",
            " [2.44294839]\n",
            " [2.54279022]]\n"
          ]
        }
      ]
    }
  ]
}