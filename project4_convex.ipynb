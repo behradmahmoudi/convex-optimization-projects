{
  "nbformat": 4,
  "nbformat_minor": 0,
  "metadata": {
    "colab": {
      "provenance": []
    },
    "kernelspec": {
      "name": "python3",
      "display_name": "Python 3"
    },
    "language_info": {
      "name": "python"
    }
  },
  "cells": [
    {
      "cell_type": "markdown",
      "source": [
        "Import dependencie"
      ],
      "metadata": {
        "id": "FY5rovLcIOOZ"
      }
    },
    {
      "cell_type": "code",
      "execution_count": 42,
      "metadata": {
        "id": "1h7TVTlVAMjo"
      },
      "outputs": [],
      "source": [
        "import numpy as np\n",
        "from scipy.sparse import random as sprand"
      ]
    },
    {
      "cell_type": "markdown",
      "source": [
        "Data"
      ],
      "metadata": {
        "id": "KxG-iyPSIYhd"
      }
    },
    {
      "cell_type": "code",
      "source": [
        "m=20\n",
        "n=10\n",
        "p=8\n",
        "np.random.seed(2)\n",
        "R = np.round(np.random.rand(m, n))\n",
        "A = sprand(p, m, density=0.2).toarray()\n",
        "c = 10*np.random.rand(m) + 20\n",
        "b = 20*np.random.rand(p) + 30"
      ],
      "metadata": {
        "id": "u7xTUmX2IUCE"
      },
      "execution_count": 43,
      "outputs": []
    },
    {
      "cell_type": "markdown",
      "source": [
        "Solve the problem for interference constrained problem"
      ],
      "metadata": {
        "id": "92WdTuuCIdV6"
      }
    },
    {
      "cell_type": "code",
      "source": [
        "import cvxpy as cp\n",
        "f = cp.Variable((n,1))\n",
        "obj = cp.Maximize(cp.sum(cp.vstack(cp.sqrt(f))))\n",
        "constraints = [R@f <= c.reshape((m,1)),\n",
        "               A@(R@f) <= b.reshape((p,1))]\n",
        "\n",
        "problem = cp.Problem(obj, constraints)\n",
        "result = problem.solve()"
      ],
      "metadata": {
        "id": "HnjEucUtAmbv"
      },
      "execution_count": 44,
      "outputs": []
    },
    {
      "cell_type": "markdown",
      "source": [
        "optimal f values"
      ],
      "metadata": {
        "id": "QTMc6ZtpIk4s"
      }
    },
    {
      "cell_type": "code",
      "source": [
        "print('optimal f is:')\n",
        "print(f.value)"
      ],
      "metadata": {
        "colab": {
          "base_uri": "https://localhost:8080/"
        },
        "id": "aus65GqMB-i1",
        "outputId": "9666b325-c961-4b50-ccd6-4ba8e6ab40a6"
      },
      "execution_count": 45,
      "outputs": [
        {
          "output_type": "stream",
          "name": "stdout",
          "text": [
            "optimal f is:\n",
            "[[0.74703043]\n",
            " [5.21609215]\n",
            " [4.3697859 ]\n",
            " [2.12366526]\n",
            " [1.23994469]\n",
            " [0.87671337]\n",
            " [5.91987917]\n",
            " [6.94814676]\n",
            " [0.8608359 ]\n",
            " [4.48192142]]\n"
          ]
        }
      ]
    },
    {
      "cell_type": "markdown",
      "source": [
        "utility of each flow and sum of all utilities"
      ],
      "metadata": {
        "id": "U4qlQZCWIosE"
      }
    },
    {
      "cell_type": "code",
      "source": [
        "print('utility of each route are:')\n",
        "print(cp.sqrt(f).value)\n",
        "print('sum of all utilities is:')\n",
        "print(cp.sum(cp.vstack(cp.sqrt(f))).value)"
      ],
      "metadata": {
        "colab": {
          "base_uri": "https://localhost:8080/"
        },
        "id": "WkzxdtoXFufu",
        "outputId": "1ed7fd21-2719-46e8-bf70-102273e2c20e"
      },
      "execution_count": 46,
      "outputs": [
        {
          "output_type": "stream",
          "name": "stdout",
          "text": [
            "utility of each route are:\n",
            "[[0.86430922]\n",
            " [2.28387656]\n",
            " [2.09040329]\n",
            " [1.45728009]\n",
            " [1.11352804]\n",
            " [0.93632974]\n",
            " [2.43308018]\n",
            " [2.63593376]\n",
            " [0.92781243]\n",
            " [2.11705489]]\n",
            "sum of all utilities is:\n",
            "16.859608189260747\n"
          ]
        }
      ]
    },
    {
      "cell_type": "markdown",
      "source": [
        "links that use almost all of the capacity for the firs problem"
      ],
      "metadata": {
        "id": "Q1bkTSb-IuX4"
      }
    },
    {
      "cell_type": "code",
      "source": [
        "print('links that use almost all of the capacity are:')\n",
        "print(c.reshape((m,1)) - R@(f.value) <= 0.001)"
      ],
      "metadata": {
        "colab": {
          "base_uri": "https://localhost:8080/"
        },
        "id": "qdUt6RnqGFqA",
        "outputId": "3426dfaf-8982-4029-d4a9-dc9becf1bc60"
      },
      "execution_count": 47,
      "outputs": [
        {
          "output_type": "stream",
          "name": "stdout",
          "text": [
            "links that use almost all of the capacity are:\n",
            "[[False]\n",
            " [False]\n",
            " [False]\n",
            " [False]\n",
            " [ True]\n",
            " [False]\n",
            " [False]\n",
            " [False]\n",
            " [False]\n",
            " [False]\n",
            " [False]\n",
            " [False]\n",
            " [False]\n",
            " [False]\n",
            " [False]\n",
            " [False]\n",
            " [False]\n",
            " [ True]\n",
            " [False]\n",
            " [ True]]\n"
          ]
        }
      ]
    },
    {
      "cell_type": "markdown",
      "source": [
        "Solve the problem for the case that we do not have any constraint for interference"
      ],
      "metadata": {
        "id": "GVazCL0II-mC"
      }
    },
    {
      "cell_type": "code",
      "source": [
        "import cvxpy as cp\n",
        "f = cp.Variable((n,1))\n",
        "obj = cp.Maximize(cp.sum(cp.vstack(cp.sqrt(f))))\n",
        "constraints = [R@f <= c.reshape((m,1))\n",
        "               ]\n",
        "\n",
        "problem = cp.Problem(obj, constraints)\n",
        "result = problem.solve()\n",
        "print('optimal f is:')\n",
        "f.value"
      ],
      "metadata": {
        "colab": {
          "base_uri": "https://localhost:8080/"
        },
        "id": "XjLqnhg-FIxz",
        "outputId": "6d9a80f2-e315-4978-9e43-7a733e438f85"
      },
      "execution_count": 48,
      "outputs": [
        {
          "output_type": "stream",
          "name": "stdout",
          "text": [
            "optimal f is:\n"
          ]
        },
        {
          "output_type": "execute_result",
          "data": {
            "text/plain": [
              "array([[1.8450443 ],\n",
              "       [3.0464918 ],\n",
              "       [5.05091504],\n",
              "       [8.68636942],\n",
              "       [4.94266877],\n",
              "       [3.72744287],\n",
              "       [7.45300289],\n",
              "       [2.47187847],\n",
              "       [1.68691061],\n",
              "       [4.81984826]])"
            ]
          },
          "metadata": {},
          "execution_count": 48
        }
      ]
    },
    {
      "cell_type": "markdown",
      "source": [
        "utility function of the second case(and sum of them)"
      ],
      "metadata": {
        "id": "XAphAjo5JHEK"
      }
    },
    {
      "cell_type": "code",
      "source": [
        "print('utility of each route are:')\n",
        "print(cp.sqrt(f).value)\n",
        "print('sum of all utilities is:')\n",
        "print(cp.sum(cp.vstack(cp.sqrt(f))).value)"
      ],
      "metadata": {
        "colab": {
          "base_uri": "https://localhost:8080/"
        },
        "id": "YfwvkfY2IFEN",
        "outputId": "751f0bd9-db9c-4beb-8eb0-21f0e77612e0"
      },
      "execution_count": 49,
      "outputs": [
        {
          "output_type": "stream",
          "name": "stdout",
          "text": [
            "utility of each route are:\n",
            "[[1.35832408]\n",
            " [1.74542024]\n",
            " [2.24742409]\n",
            " [2.94726474]\n",
            " [2.22321136]\n",
            " [1.93065866]\n",
            " [2.73001884]\n",
            " [1.57222087]\n",
            " [1.29881123]\n",
            " [2.19541528]]\n",
            "sum of all utilities is:\n",
            "20.248769393794312\n"
          ]
        }
      ]
    },
    {
      "cell_type": "markdown",
      "source": [
        "links that use almost all of the capacity for the second problem"
      ],
      "metadata": {
        "id": "0pT2H2n8JNop"
      }
    },
    {
      "cell_type": "code",
      "source": [
        "print('links that use almost all of the capacity are:')\n",
        "print(c.reshape((m,1)) - R@(f.value) <= 0.001)"
      ],
      "metadata": {
        "colab": {
          "base_uri": "https://localhost:8080/"
        },
        "id": "EWb3zs5OIGVf",
        "outputId": "dc2106e2-a05d-4288-8dbd-7256695b38d2"
      },
      "execution_count": 50,
      "outputs": [
        {
          "output_type": "stream",
          "name": "stdout",
          "text": [
            "links that use almost all of the capacity are:\n",
            "[[False]\n",
            " [ True]\n",
            " [False]\n",
            " [False]\n",
            " [ True]\n",
            " [False]\n",
            " [False]\n",
            " [False]\n",
            " [False]\n",
            " [ True]\n",
            " [ True]\n",
            " [ True]\n",
            " [False]\n",
            " [False]\n",
            " [False]\n",
            " [False]\n",
            " [False]\n",
            " [ True]\n",
            " [False]\n",
            " [ True]]\n"
          ]
        }
      ]
    }
  ]
}