{
  "nbformat": 4,
  "nbformat_minor": 0,
  "metadata": {
    "colab": {
      "provenance": []
    },
    "kernelspec": {
      "name": "python3",
      "display_name": "Python 3"
    },
    "language_info": {
      "name": "python"
    }
  },
  "cells": [
    {
      "cell_type": "markdown",
      "source": [
        "Import Dependecies"
      ],
      "metadata": {
        "id": "x5Mjj4I3IL46"
      }
    },
    {
      "cell_type": "code",
      "source": [
        "import cvxpy as cp\n",
        "import numpy as np\n",
        "import math\n",
        "A = np.array([[ 1, 1, 0, 0, 0],\n",
        "[ 0, -1, 1, 1, 0],\n",
        "[ 0, 0, 0, -1, 1],\n",
        "[-1, 0, -1, 0, -1]], dtype=np.float64)\n",
        "A = A[0:-1,:]\n",
        "R1 = 1.\n",
        "R2 = 1e3\n",
        "R5 = 1e2\n",
        "VT = 26\n",
        "IS = 1\n",
        "VS = 1e3"
      ],
      "metadata": {
        "id": "SqjvDpCaILF0"
      },
      "execution_count": 1,
      "outputs": []
    },
    {
      "cell_type": "markdown",
      "source": [
        "Solve the problem"
      ],
      "metadata": {
        "id": "2tqBu8UgIuO-"
      }
    },
    {
      "cell_type": "code",
      "execution_count": 2,
      "metadata": {
        "colab": {
          "base_uri": "https://localhost:8080/"
        },
        "id": "h87hJbS7GaZj",
        "outputId": "4853b714-0928-4a93-ff3d-6b44cc18e824"
      },
      "outputs": [
        {
          "output_type": "stream",
          "name": "stdout",
          "text": [
            "===============================================================================\n",
            "                                     CVXPY                                     \n",
            "                                     v1.3.1                                    \n",
            "===============================================================================\n",
            "(CVXPY) May 14 01:55:04 PM: Your problem has 5 variables, 1 constraints, and 0 parameters.\n",
            "(CVXPY) May 14 01:55:04 PM: It is compliant with the following grammars: DCP, DQCP\n",
            "(CVXPY) May 14 01:55:04 PM: (If you need to solve this problem multiple times, but with different data, consider using parameters.)\n",
            "(CVXPY) May 14 01:55:04 PM: CVXPY will first compile your problem; then, it will invoke a numerical solver to obtain a solution.\n",
            "-------------------------------------------------------------------------------\n",
            "                                  Compilation                                  \n",
            "-------------------------------------------------------------------------------\n",
            "(CVXPY) May 14 01:55:04 PM: Compiling problem (target solver=ECOS).\n",
            "(CVXPY) May 14 01:55:04 PM: Reduction chain: Dcp2Cone -> CvxAttr2Constr -> ConeMatrixStuffing -> ECOS\n",
            "(CVXPY) May 14 01:55:04 PM: Applying reduction Dcp2Cone\n",
            "(CVXPY) May 14 01:55:04 PM: Applying reduction CvxAttr2Constr\n",
            "(CVXPY) May 14 01:55:04 PM: Applying reduction ConeMatrixStuffing\n",
            "(CVXPY) May 14 01:55:04 PM: Applying reduction ECOS\n",
            "(CVXPY) May 14 01:55:04 PM: Finished problem compilation (took 1.090e-01 seconds).\n",
            "-------------------------------------------------------------------------------\n",
            "                                Numerical solver                               \n",
            "-------------------------------------------------------------------------------\n",
            "(CVXPY) May 14 01:55:04 PM: Invoking solver ECOS  to obtain a solution.\n",
            "-------------------------------------------------------------------------------\n",
            "                                    Summary                                    \n",
            "-------------------------------------------------------------------------------\n",
            "(CVXPY) May 14 01:55:04 PM: Problem status: optimal\n",
            "(CVXPY) May 14 01:55:04 PM: Optimal value: -4.908e+02\n",
            "(CVXPY) May 14 01:55:04 PM: Compilation took 1.090e-01 seconds\n",
            "(CVXPY) May 14 01:55:04 PM: Solver (including time spent in interface) took 7.188e-04 seconds\n"
          ]
        },
        {
          "output_type": "stream",
          "name": "stderr",
          "text": [
            "/usr/local/lib/python3.10/dist-packages/cvxpy/expressions/expression.py:612: UserWarning: \n",
            "This use of ``*`` has resulted in matrix multiplication.\n",
            "Using ``*`` for matrix multiplication has been deprecated since CVXPY 1.1.\n",
            "    Use ``*`` for matrix-scalar and vector-scalar multiplication.\n",
            "    Use ``@`` for matrix-matrix and matrix-vector multiplication.\n",
            "    Use ``multiply`` for elementwise multiplication.\n",
            "This code path has been hit 1 times so far.\n",
            "\n",
            "  warnings.warn(msg, UserWarning)\n"
          ]
        }
      ],
      "source": [
        "i = cp.Variable(5)\n",
        "OBJ1 = VS*i[0] + (1./2)*R1*cp.square(i[0])\n",
        "OBJ2 = (1./2)*R2*cp.square(i[1])\n",
        "OBJ3 = VT*IS*(-cp.entr(1. + i[2]/IS) - i[2]/IS)\n",
        "OBJ4 = VT*IS*(-cp.entr(1. + i[3]/IS) - i[3]/IS)\n",
        "OBJ5 = (1./2)*R5*cp.square(i[4])\n",
        "obj = cp.Minimize(OBJ1 + OBJ2 + OBJ3 + OBJ4 + OBJ5)\n",
        "constr = [A * i == 0.]\n",
        "problem = cp.Problem(obj, constr)\n",
        "#problem.solve(verbose=True, solver=SCS, eps=1e-4)\n",
        "problem.solve(verbose=True)\n",
        "e = -problem.constraints[0].dual_value\n",
        "v = np.array([[VS + R1*float(i.value[0])],\n",
        "[R2*float(i.value[1])],\n",
        "[VT*math.log(1. + float(i.value[2])/IS)],\n",
        "[VT*math.log(1. + float(i.value[3])/IS)],\n",
        "[R5*float(i.value[4])]])\n",
        "v_err = v - np.transpose(A) * e\n",
        "rel_err = np.linalg.norm(v_err) / np.linalg.norm(v)"
      ]
    },
    {
      "cell_type": "markdown",
      "source": [
        "Relative error"
      ],
      "metadata": {
        "id": "zqvML5NQJ3Zl"
      }
    },
    {
      "cell_type": "code",
      "source": [
        "print(\"Relative error in KVL: %e\\n\" % rel_err)"
      ],
      "metadata": {
        "colab": {
          "base_uri": "https://localhost:8080/"
        },
        "id": "sCqqp2lAI0f9",
        "outputId": "1f47c51c-8070-4df1-b665-efc186ec6090"
      },
      "execution_count": 3,
      "outputs": [
        {
          "output_type": "stream",
          "name": "stdout",
          "text": [
            "Relative error in KVL: 1.420047e+00\n",
            "\n"
          ]
        }
      ]
    },
    {
      "cell_type": "markdown",
      "source": [
        "Voltages"
      ],
      "metadata": {
        "id": "s4En7O10KDsM"
      }
    },
    {
      "cell_type": "code",
      "source": [
        "print(v)"
      ],
      "metadata": {
        "colab": {
          "base_uri": "https://localhost:8080/"
        },
        "id": "TFITaPcLJymv",
        "outputId": "c6651a3c-96fd-4355-9622-0b74e725c592"
      },
      "execution_count": 4,
      "outputs": [
        {
          "output_type": "stream",
          "name": "stdout",
          "text": [
            "[[999.01703386]\n",
            " [982.96613594]\n",
            " [ 16.05094564]\n",
            " [  3.15391948]\n",
            " [ 12.89687387]]\n"
          ]
        }
      ]
    },
    {
      "cell_type": "markdown",
      "source": [
        "Currents"
      ],
      "metadata": {
        "id": "ChiL8AyLKGrP"
      }
    },
    {
      "cell_type": "code",
      "source": [
        "print(i.value)"
      ],
      "metadata": {
        "colab": {
          "base_uri": "https://localhost:8080/"
        },
        "id": "XHsv6410J0q3",
        "outputId": "1f401f2b-17fd-4c5c-9f3b-6cbd5df2bb8c"
      },
      "execution_count": 5,
      "outputs": [
        {
          "output_type": "stream",
          "name": "stdout",
          "text": [
            "[-0.98296614  0.98296614  0.8539974   0.12896874  0.12896874]\n"
          ]
        }
      ]
    },
    {
      "cell_type": "markdown",
      "source": [
        "potentials"
      ],
      "metadata": {
        "id": "khPp4r4vi0aQ"
      }
    },
    {
      "cell_type": "code",
      "source": [
        "print(e)"
      ],
      "metadata": {
        "colab": {
          "base_uri": "https://localhost:8080/"
        },
        "id": "pNn92aN_im3M",
        "outputId": "99f2a98a-3bc8-4256-c140-d91f16594d5a"
      },
      "execution_count": 7,
      "outputs": [
        {
          "output_type": "stream",
          "name": "stdout",
          "text": [
            "[999.017032    16.05093715  12.89702156]\n"
          ]
        }
      ]
    },
    {
      "cell_type": "code",
      "source": [
        "print((A.T@e))"
      ],
      "metadata": {
        "colab": {
          "base_uri": "https://localhost:8080/"
        },
        "id": "CdN904YIi6tM",
        "outputId": "4260504d-8471-43b5-85b9-0341595e5424"
      },
      "execution_count": 12,
      "outputs": [
        {
          "output_type": "stream",
          "name": "stdout",
          "text": [
            "[999.017032   982.96609486  16.05093715   3.15391558  12.89702156]\n"
          ]
        }
      ]
    }
  ]
}