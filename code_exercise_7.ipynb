{
  "nbformat": 4,
  "nbformat_minor": 0,
  "metadata": {
    "colab": {
      "provenance": []
    },
    "kernelspec": {
      "name": "python3",
      "display_name": "Python 3"
    },
    "language_info": {
      "name": "python"
    }
  },
  "cells": [
    {
      "cell_type": "code",
      "execution_count": 25,
      "metadata": {
        "colab": {
          "base_uri": "https://localhost:8080/"
        },
        "id": "LTgO6qgOZMCP",
        "outputId": "0bbef566-85ae-4d41-a58e-2cec361d8b28"
      },
      "outputs": [
        {
          "output_type": "stream",
          "name": "stdout",
          "text": [
            "with objective x1+x2 p* is 0.600000, optimal x1 is 0.400000 and optimal x2 is 0.200000\n"
          ]
        }
      ],
      "source": [
        "import numpy as np \n",
        "import cvxpy as cvx\n",
        "x1 = cvx.Variable()\n",
        "x2 = cvx.Variable()\n",
        "const = [2*x1 + x2 >= 1, x1 + 3*x2 >= 1, x1 >= 0, x2 >= 0]\n",
        "#(a):\n",
        "obj1 = cvx.Minimize(x1+x2)\n",
        "problem1 = cvx.Problem(obj1, const)\n",
        "problem1.solve()\n",
        "print('with objective x1+x2 p* is %2f, optimal x1 is %2f and optimal x2 is %2f' %(problem1.value, x1.value, x2.value))"
      ]
    },
    {
      "cell_type": "code",
      "source": [
        "#(b):\n",
        "obj2 = cvx.Minimize(-x1-x2)\n",
        "problem2 = cvx.Problem(obj2, const)\n",
        "problem2.solve(solver = cvx.CVXOPT)\n",
        "print('with objective -x1-x2 status is ' + problem2.status)"
      ],
      "metadata": {
        "colab": {
          "base_uri": "https://localhost:8080/"
        },
        "id": "XqOYOZ7YgZFH",
        "outputId": "fdae8f58-4d9e-4660-8c8c-25fceaff2f12"
      },
      "execution_count": 28,
      "outputs": [
        {
          "output_type": "stream",
          "name": "stdout",
          "text": [
            "with objective -x1-x2 status is unbounded\n"
          ]
        }
      ]
    },
    {
      "cell_type": "code",
      "source": [
        "#(c):\n",
        "obj3 = cvx.Minimize(x1)\n",
        "problem3 = cvx.Problem(obj3, const)\n",
        "problem3.solve()\n",
        "print('with objective x1 p* is %2f, optimal x1 is %2f and optimal x2 is %2f' %(problem3.value, x1.value, x2.value))"
      ],
      "metadata": {
        "colab": {
          "base_uri": "https://localhost:8080/"
        },
        "id": "tfdChMFEfepb",
        "outputId": "bab6cdeb-de28-4caa-c74e-fdcaf9ca251a"
      },
      "execution_count": 24,
      "outputs": [
        {
          "output_type": "stream",
          "name": "stdout",
          "text": [
            "with objective x1 p* is -0.000000, optimal x1 is -0.000000 and optimal x2 is 1.553716\n"
          ]
        }
      ]
    },
    {
      "cell_type": "code",
      "source": [
        "#(d):\n",
        "obj4 = cvx.Minimize(cvx.maximum(x1,x2))\n",
        "problem4 = cvx.Problem(obj4, const)\n",
        "problem4.solve()\n",
        "print('with objective max(x1, x2) p* is %2f, optimal x1 is %2f and optimal x2 is %2f' %(problem4.value, x1.value, x2.value))"
      ],
      "metadata": {
        "colab": {
          "base_uri": "https://localhost:8080/"
        },
        "id": "aGR_QZLUfBT9",
        "outputId": "2d24bd0a-628c-476d-8c6c-b181e56d4c24"
      },
      "execution_count": 23,
      "outputs": [
        {
          "output_type": "stream",
          "name": "stdout",
          "text": [
            "with objective max(x1, x2) p* is 0.333333, optimal x1 is 0.333333 and optimal x2 is 0.333333\n"
          ]
        }
      ]
    },
    {
      "cell_type": "code",
      "source": [
        "#(e):\n",
        "obj5 = cvx.Minimize(cvx.square(x1) + 9*cvx.square(x2))\n",
        "problem5 = cvx.Problem(obj5, const)\n",
        "problem5.solve()\n",
        "print('with objective x1^2 + 9x^2 p* is %2f, optimal x1 is %2f and optimal x2 is %2f' %(problem5.value, x1.value, x2.value))"
      ],
      "metadata": {
        "colab": {
          "base_uri": "https://localhost:8080/"
        },
        "id": "a8z3r5gMdWVC",
        "outputId": "3cbce108-efbd-488c-b7e6-b790f5cd8b82"
      },
      "execution_count": 21,
      "outputs": [
        {
          "output_type": "stream",
          "name": "stdout",
          "text": [
            "with objective x1^2 + 9x^2 p* is 0.500000, optimal x1 is 0.500000 and optimal x2 is 0.166667\n"
          ]
        }
      ]
    }
  ]
}