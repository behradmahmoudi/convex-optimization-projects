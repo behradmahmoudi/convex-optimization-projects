{
  "nbformat": 4,
  "nbformat_minor": 0,
  "metadata": {
    "colab": {
      "provenance": []
    },
    "kernelspec": {
      "name": "python3",
      "display_name": "Python 3"
    },
    "language_info": {
      "name": "python"
    }
  },
  "cells": [
    {
      "cell_type": "markdown",
      "source": [
        "Import dependencies"
      ],
      "metadata": {
        "id": "I2v7tfDCEmDV"
      }
    },
    {
      "cell_type": "code",
      "execution_count": 17,
      "metadata": {
        "id": "b2SXrS_L2mbB"
      },
      "outputs": [],
      "source": [
        "import numpy as np\n",
        "import cvxpy as cp"
      ]
    },
    {
      "cell_type": "markdown",
      "source": [
        "solve the problem"
      ],
      "metadata": {
        "id": "7NanCU2bEi5F"
      }
    },
    {
      "cell_type": "code",
      "source": [
        "n = 4\n",
        "p = cp.Variable(n)\n",
        "I = 0.1*(p[0]**2) + 0.5*p[0] + 0.01*(p[1]**2) + 0.1*p[1] + 0.02*(p[2]**2) + 0.05*(p[3]**2) + 0.2*p[3]\n",
        "E = cp.geo_mean(p)\n",
        "\n",
        "objective = cp.Minimize(I-E)\n",
        "constraint = []\n",
        "problem = cp.Problem(objective, constraint)\n",
        "result = problem.solve()"
      ],
      "metadata": {
        "id": "Bm6DyJ1y2-ih"
      },
      "execution_count": 18,
      "outputs": []
    },
    {
      "cell_type": "markdown",
      "source": [
        "p_star:"
      ],
      "metadata": {
        "id": "0oGdyzebEg3E"
      }
    },
    {
      "cell_type": "code",
      "source": [
        "p_star = p.value\n",
        "print(p_star)"
      ],
      "metadata": {
        "colab": {
          "base_uri": "https://localhost:8080/"
        },
        "id": "P8aKSF988EO6",
        "outputId": "459cf9af-3161-4b7d-e36c-bfb1163e9bab"
      },
      "execution_count": 19,
      "outputs": [
        {
          "output_type": "stream",
          "name": "stdout",
          "text": [
            "[0.63633619 2.61933956 3.15891405 1.234186  ]\n"
          ]
        }
      ]
    },
    {
      "cell_type": "markdown",
      "source": [
        "supply with p_star prices"
      ],
      "metadata": {
        "id": "3husX3fiEfB9"
      }
    },
    {
      "cell_type": "code",
      "source": [
        "S = [0.2*p_star[0] + 0.5 , 0.02*p_star[1] + 0.1 , 0.04*p_star[2] , 0.1*p_star[3] + 0.2]\n",
        "print(S)\n"
      ],
      "metadata": {
        "colab": {
          "base_uri": "https://localhost:8080/"
        },
        "id": "os--dX4C8e5n",
        "outputId": "1a1b1a1b-a984-4f8e-f7e1-0a8aaafd6cf6"
      },
      "execution_count": 22,
      "outputs": [
        {
          "output_type": "stream",
          "name": "stdout",
          "text": [
            "[0.6272672371609236, 0.1523867911989373, 0.12635656197819, 0.3234186000654342]\n"
          ]
        }
      ]
    },
    {
      "cell_type": "markdown",
      "source": [
        "Demand with p_star prices"
      ],
      "metadata": {
        "id": "z7q90ViaEJ-s"
      }
    },
    {
      "cell_type": "code",
      "source": [
        "import sympy as sy\n",
        "n = 4\n",
        "p = [0,0,0,0]\n",
        "p[0], p[1], p[2], p[3] = sy.symbols('p0 p1 p2 p3')\n",
        "f = (p[0]*p[1]*p[2]*p[3])**(1/4)\n",
        "deriv = [sy.diff(f,p[i]) for i in range(n)]\n",
        "for j in range(n):\n",
        "  deriv = [deriv[i].subs(p[j],p_star[j]) for i in range(n)]\n",
        "print(deriv)"
      ],
      "metadata": {
        "colab": {
          "base_uri": "https://localhost:8080/"
        },
        "id": "oBQFs-JpDNdW",
        "outputId": "ef10205e-7c26-4751-a049-dcad4f0c1dc4"
      },
      "execution_count": 41,
      "outputs": [
        {
          "output_type": "stream",
          "name": "stdout",
          "text": [
            "[0.627267230981103, 0.152386824276741, 0.126357612455975, 0.323413842833346]\n"
          ]
        }
      ]
    },
    {
      "cell_type": "code",
      "source": [
        "S = [S[i].astype('float16') for i in range(n)]\n",
        "deriv = [np.array(deriv[i]).astype('float16') for i in range(n)]"
      ],
      "metadata": {
        "id": "xIHY2X4LE3zZ"
      },
      "execution_count": 48,
      "outputs": []
    },
    {
      "cell_type": "code",
      "source": [
        "print(deriv == S)"
      ],
      "metadata": {
        "colab": {
          "base_uri": "https://localhost:8080/"
        },
        "id": "7BW9eTSYEpoh",
        "outputId": "27d2286e-78f0-4a52-8cb5-1e79af66103a"
      },
      "execution_count": 49,
      "outputs": [
        {
          "output_type": "stream",
          "name": "stdout",
          "text": [
            "True\n"
          ]
        }
      ]
    }
  ]
}